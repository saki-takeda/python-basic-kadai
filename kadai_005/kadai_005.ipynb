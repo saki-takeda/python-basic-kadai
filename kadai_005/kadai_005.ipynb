{
 "cells": [
  {
   "cell_type": "code",
   "execution_count": 1,
   "id": "42392113",
   "metadata": {},
   "outputs": [
    {
     "name": "stdout",
     "output_type": "stream",
     "text": [
      "75.0cm²\n"
     ]
    }
   ],
   "source": [
    "# 台形の面積計算\n",
    "number1 = 10\n",
    "number2 = 20\n",
    "number3 = 5\n",
    "\n",
    "answer = (number1 + number2) * number3 / 2\n",
    "print(str(answer) + \"cm²\")"
   ]
  }
 ],
 "metadata": {
  "kernelspec": {
   "display_name": "Python 3",
   "language": "python",
   "name": "python3"
  },
  "language_info": {
   "codemirror_mode": {
    "name": "ipython",
    "version": 3
   },
   "file_extension": ".py",
   "mimetype": "text/x-python",
   "name": "python",
   "nbconvert_exporter": "python",
   "pygments_lexer": "ipython3",
   "version": "3.13.5"
  }
 },
 "nbformat": 4,
 "nbformat_minor": 5
}
