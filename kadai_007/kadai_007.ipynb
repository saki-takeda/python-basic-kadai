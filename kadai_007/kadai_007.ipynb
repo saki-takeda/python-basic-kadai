{
 "cells": [
  {
   "cell_type": "code",
   "execution_count": null,
   "id": "18d1d798",
   "metadata": {},
   "outputs": [
    {
     "ename": "NameError",
     "evalue": "name 'mon' is not defined",
     "output_type": "error",
     "traceback": [
      "\u001b[31m---------------------------------------------------------------------------\u001b[39m",
      "\u001b[31mNameError\u001b[39m                                 Traceback (most recent call last)",
      "\u001b[36mCell\u001b[39m\u001b[36m \u001b[39m\u001b[32mIn[1]\u001b[39m\u001b[32m, line 2\u001b[39m\n\u001b[32m      1\u001b[39m array = [\u001b[33m\"\u001b[39m\u001b[33m月曜日は晴れです\u001b[39m\u001b[33m\"\u001b[39m, \u001b[33m\"\u001b[39m\u001b[33m火曜日は雨です\u001b[39m\u001b[33m\"\u001b[39m,\u001b[33m\"\u001b[39m\u001b[33m水曜日は晴れです\u001b[39m\u001b[33m\"\u001b[39m,\u001b[33m\"\u001b[39m\u001b[33m木曜日は晴れです\u001b[39m\u001b[33m\"\u001b[39m,\u001b[33m\"\u001b[39m\u001b[33m金曜日は曇りです\u001b[39m\u001b[33m\"\u001b[39m,\u001b[33m\"\u001b[39m\u001b[33m土曜日は曇りのち雨です\u001b[39m\u001b[33m\"\u001b[39m,\u001b[33m\"\u001b[39m\u001b[33m日曜日は雷雨です\u001b[39m\u001b[33m\"\u001b[39m]\n\u001b[32m----> \u001b[39m\u001b[32m2\u001b[39m dictionary = {\u001b[43mmon\u001b[49m: \u001b[33m\"\u001b[39m\u001b[33m晴れ\u001b[39m\u001b[33m\"\u001b[39m, tue: \u001b[33m\"\u001b[39m\u001b[33m雨\u001b[39m\u001b[33m\"\u001b[39m, wed: \u001b[33m\"\u001b[39m\u001b[33m晴れ\u001b[39m\u001b[33m\"\u001b[39m, thu: \u001b[33m\"\u001b[39m\u001b[33m晴れ\u001b[39m\u001b[33m\"\u001b[39m, fri: \u001b[33m\"\u001b[39m\u001b[33m曇り\u001b[39m\u001b[33m\"\u001b[39m, sat: \u001b[33m\"\u001b[39m\u001b[33m曇りのち雨\u001b[39m\u001b[33m\"\u001b[39m, sun: \u001b[33m\"\u001b[39m\u001b[33m雷雨\u001b[39m\u001b[33m\"\u001b[39m}\n\u001b[32m      4\u001b[39m \u001b[38;5;66;03m# リストから水曜日の天気を取り出す\u001b[39;00m\n\u001b[32m      5\u001b[39m \u001b[38;5;28mprint\u001b[39m(array[\u001b[32m2\u001b[39m])\n",
      "\u001b[31mNameError\u001b[39m: name 'mon' is not defined"
     ]
    }
   ],
   "source": [
    "array = [\"月曜日は晴れです\", \"火曜日は雨です\",\"水曜日は晴れです\",\"木曜日は晴れです\",\"金曜日は曇りです\",\"土曜日は曇りのち雨です\",\"日曜日は雷雨です\"]\n",
    "dictionary = {\"mon\": \"晴れ\", \"tue\": \"雨\", \"wed\": \"晴れ\", \"thu\": \"晴れ\", \"fri\": \"曇り\", \"sat\": \"曇りのち雨\", \"sun\": \"雷雨\"}\n",
    "\n",
    "# リストから水曜日の天気を取り出す\n",
    "print(array[2])\n",
    "\n",
    "# ディクショナリから水曜日の天気を取り出す\n",
    "print(dictionary[\"wed\"])"
   ]
  }
 ],
 "metadata": {
  "kernelspec": {
   "display_name": "Python 3",
   "language": "python",
   "name": "python3"
  },
  "language_info": {
   "codemirror_mode": {
    "name": "ipython",
    "version": 3
   },
   "file_extension": ".py",
   "mimetype": "text/x-python",
   "name": "python",
   "nbconvert_exporter": "python",
   "pygments_lexer": "ipython3",
   "version": "3.13.5"
  }
 },
 "nbformat": 4,
 "nbformat_minor": 5
}
