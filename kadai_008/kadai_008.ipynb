{
 "cells": [
  {
   "cell_type": "code",
   "execution_count": 13,
   "id": "61165802",
   "metadata": {},
   "outputs": [
    {
     "name": "stdout",
     "output_type": "stream",
     "text": [
      "30\n",
      "FizzBuzz\n"
     ]
    }
   ],
   "source": [
    "var = 30\n",
    "\n",
    "# 変数varの値を出力\n",
    "print(var)\n",
    "\n",
    "if var % 3 == 0 and var % 5 > 0:\n",
    "    print(\"Fizz\")\n",
    "elif var % 5 == 0 and var % 3 > 0:\n",
    "    print(\"Buzz\")\n",
    "elif var % 3 == 0 and var % 5 == 0:\n",
    "    print(\"FizzBuzz\")\n",
    "else:\n",
    "    print(var)"
   ]
  }
 ],
 "metadata": {
  "kernelspec": {
   "display_name": "Python 3",
   "language": "python",
   "name": "python3"
  },
  "language_info": {
   "codemirror_mode": {
    "name": "ipython",
    "version": 3
   },
   "file_extension": ".py",
   "mimetype": "text/x-python",
   "name": "python",
   "nbconvert_exporter": "python",
   "pygments_lexer": "ipython3",
   "version": "3.13.5"
  }
 },
 "nbformat": 4,
 "nbformat_minor": 5
}
